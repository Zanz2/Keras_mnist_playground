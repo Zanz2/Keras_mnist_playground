{
 "cells": [
  {
   "cell_type": "code",
   "execution_count": 1,
   "id": "5deaa33a",
   "metadata": {},
   "outputs": [
    {
     "name": "stdout",
     "output_type": "stream",
     "text": [
      "[PhysicalDevice(name='/physical_device:GPU:0', device_type='GPU')]\n"
     ]
    }
   ],
   "source": [
    "import tensorflow as tf\n",
    "import os\n",
    "import struct\n",
    "import numpy as np\n",
    "from matplotlib import pyplot as plt\n",
    "\n",
    "\n",
    "print(tf.config.list_physical_devices('GPU'))\n"
   ]
  },
  {
   "cell_type": "code",
   "execution_count": 2,
   "id": "0bcc4dc7",
   "metadata": {},
   "outputs": [
    {
     "name": "stdout",
     "output_type": "stream",
     "text": [
      "C:\\Users\\zanza\\Desktop\\FOLDERS\\work_projects\\police\\prelim_work\n",
      "test, train, labels and images combinations are listed below, if there are less than 4 then the paths need to be changed\n",
      "C:\\Users\\zanza\\Desktop\\FOLDERS\\work_projects\\police\\prelim_work\\data\\Mnist\\test\\labels\\t10k-labels.idx1-ubyte\n",
      "C:\\Users\\zanza\\Desktop\\FOLDERS\\work_projects\\police\\prelim_work\\data\\Mnist\\test\\images\\t10k-images.idx3-ubyte\n",
      "C:\\Users\\zanza\\Desktop\\FOLDERS\\work_projects\\police\\prelim_work\\data\\Mnist\\train\\labels\\train-labels.idx1-ubyte\n",
      "C:\\Users\\zanza\\Desktop\\FOLDERS\\work_projects\\police\\prelim_work\\data\\Mnist\\train\\images\\train-images.idx3-ubyte\n",
      "--------------\n"
     ]
    }
   ],
   "source": [
    "print(os.getcwd())\n",
    "mnist_train = \"{}\\\\data\\\\Mnist\\\\train\".format(os.getcwd())\n",
    "mnist_test = \"{}\\\\data\\\\Mnist\\\\test\".format(os.getcwd())\n",
    "test_labels_file = \"{}\\\\labels\\\\t10k-labels.idx1-ubyte\".format(mnist_test)\n",
    "test_images_file = \"{}\\\\images\\\\t10k-images.idx3-ubyte\".format(mnist_test)\n",
    "train_labels_file = \"{}\\\\labels\\\\train-labels.idx1-ubyte\".format(mnist_train)\n",
    "train_images_file = \"{}\\\\images\\\\train-images.idx3-ubyte\".format(mnist_train)\n",
    "print(\"test, train, labels and images combinations are listed below, if there are less than 4 then the paths need to be changed\")\n",
    "if os.path.isfile(test_labels_file): print(test_labels_file)\n",
    "if os.path.isfile(test_images_file): print(test_images_file)\n",
    "if os.path.isfile(train_labels_file): print(train_labels_file)\n",
    "if os.path.isfile(train_images_file): print(train_images_file)\n",
    "print(\"--------------\")"
   ]
  },
  {
   "cell_type": "code",
   "execution_count": 3,
   "id": "e661f236",
   "metadata": {},
   "outputs": [
    {
     "name": "stdout",
     "output_type": "stream",
     "text": [
      "magic_num: 2051,nrow(28),ncol(28), size 60000*nrow*ncol == 47040000\n",
      "(28, 28, 1)\n",
      "magic_num: 2049, size 60000 == 60000\n",
      "magic_num: 2051,nrow(28),ncol(28), size 10000*nrow*ncol == 7840000\n",
      "(28, 28, 1)\n",
      "magic_num: 2049, size 10000 == 10000\n"
     ]
    }
   ],
   "source": [
    "def mnist_file_parser(file_path, file_type): #format as documented in Yanns mnist documentation\n",
    "    if file_type != \"labels\" and file_type != \"images\":\n",
    "        print(\"unrecognized file type\")\n",
    "        return\n",
    "    \n",
    "    if file_type == \"labels\":\n",
    "        with open(file_path, \"rb\") as f:\n",
    "            f = f.read()\n",
    "            magic_num = struct.unpack_from(\">i\",f,offset=0)[0]\n",
    "            size = struct.unpack_from(\">i\",f,offset=4)[0]\n",
    "            unpacked = struct.unpack_from(\">{}B\".format(size),f,offset=8)\n",
    "            print(\"magic_num: {}, size {} == {}\".format(magic_num,size,len(unpacked)))\n",
    "        result_np_arr = np.asarray(unpacked)\n",
    "        return result_np_arr\n",
    "    \n",
    "    elif file_type == \"images\":\n",
    "        with open(file_path, \"rb\") as f:\n",
    "            f = f.read()\n",
    "            magic_num = struct.unpack_from(\">i\",f,offset=0)[0]\n",
    "            size = struct.unpack_from(\">i\",f,offset=4)[0]\n",
    "            nrow = struct.unpack_from(\">i\",f,offset=8)[0]\n",
    "            ncol = struct.unpack_from(\">i\",f,offset=12)[0]\n",
    "            unpacked = struct.unpack_from(\">{}B\".format(size*nrow*ncol),f,offset=16)\n",
    "            print(\"magic_num: {},nrow({}),ncol({}), size {}*nrow*ncol == {}\".format(magic_num,nrow,ncol,size,len(unpacked)))\n",
    "        result_np_arr = np.asarray(unpacked).reshape((size,nrow,ncol,1)) # also add channel for conv2d layers to work\n",
    "        print(result_np_arr[0].shape)\n",
    "        return result_np_arr\n",
    "    \n",
    "\n",
    "train_images = mnist_file_parser(train_images_file, \"images\")\n",
    "train_labels = mnist_file_parser(train_labels_file, \"labels\")\n",
    "test_images = mnist_file_parser(test_images_file, \"images\")\n",
    "test_labels = mnist_file_parser(test_labels_file, \"labels\")"
   ]
  },
  {
   "cell_type": "code",
   "execution_count": 4,
   "id": "ebaf92c6",
   "metadata": {},
   "outputs": [
    {
     "name": "stdout",
     "output_type": "stream",
     "text": [
      "label: 3\n"
     ]
    },
    {
     "data": {
      "text/plain": [
       "<matplotlib.image.AxesImage at 0x2070004a5c0>"
      ]
     },
     "execution_count": 4,
     "metadata": {},
     "output_type": "execute_result"
    },
    {
     "data": {
      "image/png": "[encoded data removed]",
      "text/plain": [
       "<Figure size 640x480 with 1 Axes>"
      ]
     },
     "metadata": {},
     "output_type": "display_data"
    }
   ],
   "source": [
    "sample_num = 7\n",
    "print(\"label: {}\".format(train_labels[sample_num]))\n",
    "plt.imshow(train_images[sample_num], cmap='gray')"
   ]
  },
  {
   "cell_type": "code",
   "execution_count": 5,
   "id": "178c98b5",
   "metadata": {},
   "outputs": [
    {
     "name": "stdout",
     "output_type": "stream",
     "text": [
      "10\n"
     ]
    }
   ],
   "source": [
    "# scale images to 0 - 1 range\n",
    "train_images = train_images / 255\n",
    "test_images = test_images / 255\n",
    "print(len(np.unique(train_labels)))"
   ]
  },
  {
   "cell_type": "code",
   "execution_count": 15,
   "id": "7c77b5e9",
   "metadata": {},
   "outputs": [
    {
     "name": "stdout",
     "output_type": "stream",
     "text": [
      "Model: \"sequential\"\n",
      "_________________________________________________________________\n",
      " Layer (type)                Output Shape              Param #   \n",
      "=================================================================\n",
      " fnn_l1 (Flatten)            (None, 784)               0         \n",
      "                                                                 \n",
      " fnn_l2 (Dense)              (None, 16)                12560     \n",
      "                                                                 \n",
      " fnn_l3 (Dense)              (None, 10)                170       \n",
      "                                                                 \n",
      "=================================================================\n",
      "Total params: 12,730\n",
      "Trainable params: 12,730\n",
      "Non-trainable params: 0\n",
      "_________________________________________________________________\n",
      "Epoch 1/5\n",
      "1875/1875 [==============================] - 4s 2ms/step - loss: 0.4386 - accuracy: 0.8749\n",
      "Epoch 2/5\n",
      "1875/1875 [==============================] - 3s 2ms/step - loss: 0.2376 - accuracy: 0.9316\n",
      "Epoch 3/5\n",
      "1875/1875 [==============================] - 3s 2ms/step - loss: 0.2045 - accuracy: 0.9422\n",
      "Epoch 4/5\n",
      "1875/1875 [==============================] - 3s 2ms/step - loss: 0.1849 - accuracy: 0.9474\n",
      "Epoch 5/5\n",
      "1875/1875 [==============================] - 3s 2ms/step - loss: 0.1719 - accuracy: 0.9505\n",
      "313/313 - 1s - loss: 0.1808 - accuracy: 0.9456 - 547ms/epoch - 2ms/step\n",
      "\n",
      "Test accuracy: 0.9455999732017517\n"
     ]
    }
   ],
   "source": [
    "model_type = \"fnn\" # cnn, fnn\n",
    "\n",
    "tf.keras.backend.clear_session()\n",
    "\n",
    "if model_type == \"cnn\":\n",
    "    model = tf.keras.Sequential([\n",
    "        tf.keras.layers.Conv2D(2, 3, activation=\"relu\",input_shape=(28,28,1), name=\"cnn_l1\"),\n",
    "        tf.keras.layers.MaxPooling2D(2, name=\"cnn_l2\"),\n",
    "        tf.keras.layers.Conv2D(2, 3,activation=\"relu\", name=\"cnn_l3\"),\n",
    "        tf.keras.layers.MaxPooling2D(2, name=\"cnn_l4\"),\n",
    "        tf.keras.layers.Flatten(name=\"cnn_l5\"),\n",
    "        tf.keras.layers.Dense(len(np.unique(train_labels)), name=\"cnn_l6\"),\n",
    "    ])\n",
    "elif model_type == \"fnn\":\n",
    "    model = tf.keras.Sequential([\n",
    "        tf.keras.layers.Flatten(input_shape=(28, 28,1),name=\"fnn_l1\"),\n",
    "        tf.keras.layers.Dense(16, activation='relu',name=\"fnn_l2\"),\n",
    "        tf.keras.layers.Dense(len(np.unique(train_labels)), name=\"fnn_l3\"),\n",
    "    ])\n",
    "\n",
    "\n",
    "model.compile(optimizer='adam',\n",
    "              loss=tf.keras.losses.SparseCategoricalCrossentropy(from_logits=True),\n",
    "              metrics=['accuracy'])\n",
    "\n",
    "model.summary()\n",
    "\n",
    "model.fit(train_images, train_labels, epochs=5)\n",
    "test_loss, test_acc = model.evaluate(test_images,  test_labels, verbose=2)\n",
    "print('\\nTest accuracy:', test_acc)"
   ]
  },
  {
   "cell_type": "markdown",
   "id": "63097a3e",
   "metadata": {},
   "source": [
    "# That was mnist / Fmnist, now for something harder with COCO\n"
   ]
  },
  {
   "cell_type": "code",
   "execution_count": null,
   "id": "c2b6a03a",
   "metadata": {},
   "outputs": [],
   "source": []
  }
 ],
 "metadata": {
  "kernelspec": {
   "display_name": "Python 3 (ipykernel)",
   "language": "python",
   "name": "python3"
  },
  "language_info": {
   "codemirror_mode": {
    "name": "ipython",
    "version": 3
   },
   "file_extension": ".py",
   "mimetype": "text/x-python",
   "name": "python",
   "nbconvert_exporter": "python",
   "pygments_lexer": "ipython3",
   "version": "3.10.4"
  }
 },
 "nbformat": 4,
 "nbformat_minor": 5
}
